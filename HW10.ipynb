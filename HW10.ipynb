{
 "cells": [
  {
   "cell_type": "markdown",
   "id": "1cf71e60-9fb2-48a2-b592-0754d40b71a7",
   "metadata": {},
   "source": [
    "#Q1\n",
    "\n",
    "Gaussian Processes (GPs) is is a specific type of stochastic process where any finite collection of random variables has a joint Gaussian distribution. In simpler terms, a Gaussian process is described by a mean function m(x) and a covariance function k(x, x') which together define the distribution of functions over a domain.\n",
    "\n",
    "Given a set of input points x1.....xn, the corresponding function values f(x1)....f(xn) are jointly distributed as a multivariate normal. The Gaussian Process is specified as:\n",
    "\n",
    "                                        f(x)~ GP(m(x), k(x, x'))\n",
    "Stochastic process is a collection of random variables indexed by time or space. They are used to model systems that evolve over time in a probabilistic manner. Examples include Brownian motion, Markov processes, and Poisson processes. Stochastic processes can model a wide variety of real-world phenomena, from stock prices to physical systems.\n",
    "\n",
    "Variational Inference is an approximate Bayesian inference technique used when computing the posterior distribution is computationally intractable. The core idea is to approximate the true posterior p(\\theta \\|x) with a simpler distribution q(\\theta \\). This is done by minimizing the Kullback-Leibler (KL) divergence between the approximating distribution q(\\theta \\) and the true posterior.\n",
    "\n",
    "The KL divergence formulation is given as:\n",
    "\n",
    "![](hw101.png)\n",
    "\n",
    "where p(x) is the marginal likelihood (or evidence), and the ELBO represents a lower bound on the log marginal likelihood.\n",
    "\n",
    "The ELBO is the key quantity used in variational inference to optimize the variational distribution. The ELBO is expressed as:\n",
    "\n",
    "![](hw102.png)\n",
    "\n",
    "Maximizing the ELBO is equivalent to maximizing the marginal likelihood p(x) while regularizing the model by minimizing the KL divergence between the variational distribution and the true posterior. This allows us to obtain an efficient approximation to the true posterior distribution."
   ]
  },
  {
   "cell_type": "code",
   "execution_count": 1,
   "id": "50640afc-df44-4bd7-b842-f85ae0e88cb6",
   "metadata": {},
   "outputs": [
    {
     "name": "stderr",
     "output_type": "stream",
     "text": [
      "Auto-assigning NUTS sampler...\n",
      "Initializing NUTS using jitter+adapt_diag...\n",
      "Sequential sampling (1 chains in 1 job)\n",
      "NUTS: [ℓ, η, σ]\n"
     ]
    },
    {
     "data": {
      "text/html": [
       "\n",
       "<style>\n",
       "    /* Turns off some styling */\n",
       "    progress {\n",
       "        /* gets rid of default border in Firefox and Opera. */\n",
       "        border: none;\n",
       "        /* Needs to be in here for Safari polyfill so background images work as expected. */\n",
       "        background-size: auto;\n",
       "    }\n",
       "    progress:not([value]), progress:not([value])::-webkit-progress-bar {\n",
       "        background: repeating-linear-gradient(45deg, #7e7e7e, #7e7e7e 10px, #5c5c5c 10px, #5c5c5c 20px);\n",
       "    }\n",
       "    .progress-bar-interrupted, .progress-bar-interrupted::-webkit-progress-bar {\n",
       "        background: #F44336;\n",
       "    }\n",
       "</style>\n"
      ],
      "text/plain": [
       "<IPython.core.display.HTML object>"
      ]
     },
     "metadata": {},
     "output_type": "display_data"
    },
    {
     "data": {
      "text/html": [
       "\n",
       "    <div>\n",
       "      <progress value='1500' class='' max='1500' style='width:300px; height:20px; vertical-align: middle;'></progress>\n",
       "      100.00% [1500/1500 00:11&lt;00:00 Sampling chain 0, 0 divergences]\n",
       "    </div>\n",
       "    "
      ],
      "text/plain": [
       "<IPython.core.display.HTML object>"
      ]
     },
     "metadata": {},
     "output_type": "display_data"
    },
    {
     "name": "stderr",
     "output_type": "stream",
     "text": [
      "Sampling 1 chain for 1_000 tune and 500 draw iterations (1_000 + 500 draws total) took 11 seconds.\n",
      "Only one chain was sampled, this makes it impossible to run some convergence checks\n",
      "Sampling: [f_pred]\n"
     ]
    },
    {
     "data": {
      "text/html": [
       "\n",
       "<style>\n",
       "    /* Turns off some styling */\n",
       "    progress {\n",
       "        /* gets rid of default border in Firefox and Opera. */\n",
       "        border: none;\n",
       "        /* Needs to be in here for Safari polyfill so background images work as expected. */\n",
       "        background-size: auto;\n",
       "    }\n",
       "    progress:not([value]), progress:not([value])::-webkit-progress-bar {\n",
       "        background: repeating-linear-gradient(45deg, #7e7e7e, #7e7e7e 10px, #5c5c5c 10px, #5c5c5c 20px);\n",
       "    }\n",
       "    .progress-bar-interrupted, .progress-bar-interrupted::-webkit-progress-bar {\n",
       "        background: #F44336;\n",
       "    }\n",
       "</style>\n"
      ],
      "text/plain": [
       "<IPython.core.display.HTML object>"
      ]
     },
     "metadata": {},
     "output_type": "display_data"
    },
    {
     "data": {
      "text/html": [
       "\n",
       "    <div>\n",
       "      <progress value='500' class='' max='500' style='width:300px; height:20px; vertical-align: middle;'></progress>\n",
       "      100.00% [500/500 00:06&lt;00:00]\n",
       "    </div>\n",
       "    "
      ],
      "text/plain": [
       "<IPython.core.display.HTML object>"
      ]
     },
     "metadata": {},
     "output_type": "display_data"
    },
    {
     "ename": "KeyError",
     "evalue": "'f_pred'",
     "output_type": "error",
     "traceback": [
      "\u001b[0;31m---------------------------------------------------------------------------\u001b[0m",
      "\u001b[0;31mKeyError\u001b[0m                                  Traceback (most recent call last)",
      "Cell \u001b[0;32mIn[1], line 35\u001b[0m\n\u001b[1;32m     33\u001b[0m \u001b[38;5;66;03m# Plot the results\u001b[39;00m\n\u001b[1;32m     34\u001b[0m plt\u001b[38;5;241m.\u001b[39mplot(X, y, \u001b[38;5;124m\"\u001b[39m\u001b[38;5;124mo\u001b[39m\u001b[38;5;124m\"\u001b[39m, label\u001b[38;5;241m=\u001b[39m\u001b[38;5;124m\"\u001b[39m\u001b[38;5;124mObserved data\u001b[39m\u001b[38;5;124m\"\u001b[39m)\n\u001b[0;32m---> 35\u001b[0m plt\u001b[38;5;241m.\u001b[39mplot(X_new, np\u001b[38;5;241m.\u001b[39mmean(\u001b[43mpred_samples\u001b[49m\u001b[43m[\u001b[49m\u001b[38;5;124;43m\"\u001b[39;49m\u001b[38;5;124;43mf_pred\u001b[39;49m\u001b[38;5;124;43m\"\u001b[39;49m\u001b[43m]\u001b[49m, axis\u001b[38;5;241m=\u001b[39m\u001b[38;5;241m0\u001b[39m), label\u001b[38;5;241m=\u001b[39m\u001b[38;5;124m\"\u001b[39m\u001b[38;5;124mPosterior mean\u001b[39m\u001b[38;5;124m\"\u001b[39m)  \u001b[38;5;66;03m# Correctly access the posterior mean\u001b[39;00m\n\u001b[1;32m     36\u001b[0m plt\u001b[38;5;241m.\u001b[39mfill_between(X_new\u001b[38;5;241m.\u001b[39mravel(), \n\u001b[1;32m     37\u001b[0m                  np\u001b[38;5;241m.\u001b[39mpercentile(pred_samples[\u001b[38;5;124m\"\u001b[39m\u001b[38;5;124mf_pred\u001b[39m\u001b[38;5;124m\"\u001b[39m], \u001b[38;5;241m5\u001b[39m, axis\u001b[38;5;241m=\u001b[39m\u001b[38;5;241m0\u001b[39m),\n\u001b[1;32m     38\u001b[0m                  np\u001b[38;5;241m.\u001b[39mpercentile(pred_samples[\u001b[38;5;124m\"\u001b[39m\u001b[38;5;124mf_pred\u001b[39m\u001b[38;5;124m\"\u001b[39m], \u001b[38;5;241m95\u001b[39m, axis\u001b[38;5;241m=\u001b[39m\u001b[38;5;241m0\u001b[39m), alpha\u001b[38;5;241m=\u001b[39m\u001b[38;5;241m0.3\u001b[39m)\n\u001b[1;32m     39\u001b[0m plt\u001b[38;5;241m.\u001b[39mlegend()\n",
      "File \u001b[0;32m/opt/conda/lib/python3.11/site-packages/arviz/data/inference_data.py:271\u001b[0m, in \u001b[0;36mInferenceData.__getitem__\u001b[0;34m(self, key)\u001b[0m\n\u001b[1;32m    269\u001b[0m \u001b[38;5;250m\u001b[39m\u001b[38;5;124;03m\"\"\"Get item by key.\"\"\"\u001b[39;00m\n\u001b[1;32m    270\u001b[0m \u001b[38;5;28;01mif\u001b[39;00m key \u001b[38;5;129;01mnot\u001b[39;00m \u001b[38;5;129;01min\u001b[39;00m \u001b[38;5;28mself\u001b[39m\u001b[38;5;241m.\u001b[39m_groups_all:\n\u001b[0;32m--> 271\u001b[0m     \u001b[38;5;28;01mraise\u001b[39;00m \u001b[38;5;167;01mKeyError\u001b[39;00m(key)\n\u001b[1;32m    272\u001b[0m \u001b[38;5;28;01mreturn\u001b[39;00m \u001b[38;5;28mgetattr\u001b[39m(\u001b[38;5;28mself\u001b[39m, key)\n",
      "\u001b[0;31mKeyError\u001b[0m: 'f_pred'"
     ]
    },
    {
     "data": {
      "image/png": "[encoded data removed]",
      "text/plain": [
       "<Figure size 640x480 with 1 Axes>"
      ]
     },
     "metadata": {},
     "output_type": "display_data"
    }
   ],
   "source": [
    "#Q2\n",
    "\n",
    "import pymc as pm\n",
    "import numpy as np\n",
    "import matplotlib.pyplot as plt\n",
    "\n",
    "# Simulated dataset: Number of rooms vs House price\n",
    "X = np.linspace(1, 10, 30)[:, None]  # 1 to 10 rooms\n",
    "y = 3 * X.ravel() + 10 + 0.5 * np.random.randn(30)  # Linear relation with noise\n",
    "\n",
    "with pm.Model() as gp_model:\n",
    "    # Define GP prior\n",
    "    ℓ = pm.Gamma(\"ℓ\", alpha=2, beta=1)\n",
    "    η = pm.HalfNormal(\"η\", sigma=1)\n",
    "    cov_func = η**2 * pm.gp.cov.ExpQuad(1, ℓ)\n",
    "    \n",
    "    gp = pm.gp.Marginal(cov_func=cov_func)\n",
    "    σ = pm.HalfNormal(\"σ\", sigma=0.5)\n",
    "    \n",
    "    # Likelihood\n",
    "    y_obs = gp.marginal_likelihood(\"y\", X=X, y=y, sigma=σ)\n",
    "    \n",
    "    # Sample from the posterior\n",
    "    trace = pm.sample(500, chains=1, random_seed=42)\n",
    "\n",
    "    # Posterior predictive\n",
    "    X_new = np.linspace(0, 12, 100)[:, None]\n",
    "    f_pred = gp.conditional(\"f_pred\", X_new)\n",
    "    \n",
    "    # Sample posterior predictive\n",
    "    pred_samples = pm.sample_posterior_predictive(trace, var_names=[\"f_pred\"], model=gp_model, random_seed=42)\n",
    "\n",
    "# Plot the results\n",
    "plt.plot(X, y, \"o\", label=\"Observed data\")\n",
    "plt.plot(X_new, np.mean(pred_samples[\"f_pred\"], axis=0), label=\"Posterior mean\")  # Correctly access the posterior mean\n",
    "plt.fill_between(X_new.ravel(), \n",
    "                 np.percentile(pred_samples[\"f_pred\"], 5, axis=0),\n",
    "                 np.percentile(pred_samples[\"f_pred\"], 95, axis=0), alpha=0.3)\n",
    "plt.legend()\n",
    "plt.xlabel(\"Number of Rooms\")\n",
    "plt.ylabel(\"House Price\")\n",
    "plt.show()\n",
    "\n",
    "\n"
   ]
  },
  {
   "cell_type": "code",
   "execution_count": null,
   "id": "e0917251-58f0-4d55-9224-275f14c6bb61",
   "metadata": {},
   "outputs": [],
   "source": [
    "#Q3\n",
    "\n",
    "import pymc as pm\n",
    "import numpy as np\n",
    "import matplotlib.pyplot as plt\n",
    "\n",
    "# Simulated dataset: Random data for fitting a neural network\n",
    "X = np.random.rand(100, 1)\n",
    "y = 3 * X + 2 + 0.1 * np.random.randn(100)  # Linear relation with noise\n",
    "\n",
    "# Define a neural network model with variational inference\n",
    "with pm.Model() as neural_net:\n",
    "    # Define the variational layer\n",
    "    n_hidden = 5  # Number of hidden units\n",
    "    W1 = pm.Normal('W1', mu=0, sigma=1, shape=(1, n_hidden))\n",
    "    b1 = pm.Normal('b1', mu=0, sigma=1, shape=(n_hidden,))\n",
    "    W2 = pm.Normal('W2', mu=0, sigma=1, shape=(n_hidden, 1))\n",
    "    b2 = pm.Normal('b2', mu=0, sigma=1, shape=(1,))\n",
    "\n",
    "    # Define the forward pass (Neural network structure)\n",
    "    hidden = pm.math.tanh(pm.math.dot(X, W1) + b1)\n",
    "    output = pm.math.dot(hidden, W2) + b2\n",
    "\n",
    "    # Likelihood: Normally distributed output\n",
    "    likelihood = pm.Normal('y', mu=output, sigma=0.1, observed=y)\n",
    "\n",
    "    # Perform Variational Inference\n",
    "    trace = pm.fit(1000, method='advi', random_seed=42)\n",
    "\n",
    "# Plot results\n",
    "plt.plot(X, y, 'o', label='Observed Data')\n",
    "plt.plot(X, trace.sample_stats['mean'].mean(axis=0), label='Fitted Model')\n",
    "plt.xlabel(\"Input\")\n",
    "plt.ylabel(\"Output\")\n",
    "plt.legend()\n",
    "plt.show()\n"
   ]
  }
 ],
 "metadata": {
  "kernelspec": {
   "display_name": "Python 3 (ipykernel)",
   "language": "python",
   "name": "python3"
  },
  "language_info": {
   "codemirror_mode": {
    "name": "ipython",
    "version": 3
   },
   "file_extension": ".py",
   "mimetype": "text/x-python",
   "name": "python",
   "nbconvert_exporter": "python",
   "pygments_lexer": "ipython3",
   "version": "3.11.6"
  }
 },
 "nbformat": 4,
 "nbformat_minor": 5
}
